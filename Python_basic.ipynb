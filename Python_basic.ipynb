{
  "nbformat": 4,
  "nbformat_minor": 0,
  "metadata": {
    "colab": {
      "provenance": [],
      "authorship_tag": "ABX9TyNrIlgoz413NAGdZS9+hOlw",
      "include_colab_link": true
    },
    "kernelspec": {
      "name": "python3",
      "display_name": "Python 3"
    },
    "language_info": {
      "name": "python"
    }
  },
  "cells": [
    {
      "cell_type": "markdown",
      "metadata": {
        "id": "view-in-github",
        "colab_type": "text"
      },
      "source": [
        "<a href=\"https://colab.research.google.com/github/asupraja3/Python_basic/blob/main/Python_basic.ipynb\" target=\"_parent\"><img src=\"https://colab.research.google.com/assets/colab-badge.svg\" alt=\"Open In Colab\"/></a>"
      ]
    },
    {
      "cell_type": "code",
      "execution_count": null,
      "metadata": {
        "id": "cN1UnyQe2wqO",
        "colab": {
          "base_uri": "https://localhost:8080/"
        },
        "outputId": "0cd3c4ad-f126-4d62-fc8a-209379bcd10f"
      },
      "outputs": [
        {
          "output_type": "execute_result",
          "data": {
            "text/plain": [
              "['sup', 'prav']"
            ]
          },
          "metadata": {},
          "execution_count": 2
        }
      ],
      "source": [
        "names = [\"sup\", \"prav\"]\n",
        "names\n"
      ]
    },
    {
      "cell_type": "code",
      "source": [
        "import math\n",
        "math.floor(2.7)"
      ],
      "metadata": {
        "colab": {
          "base_uri": "https://localhost:8080/"
        },
        "id": "gcDHxIsQJOiU",
        "outputId": "32f04c0b-b38c-4753-d326-55a41965c680"
      },
      "execution_count": null,
      "outputs": [
        {
          "output_type": "execute_result",
          "data": {
            "text/plain": [
              "2"
            ]
          },
          "metadata": {},
          "execution_count": 2
        }
      ]
    },
    {
      "cell_type": "code",
      "source": [
        "math.ceil(2.7)"
      ],
      "metadata": {
        "colab": {
          "base_uri": "https://localhost:8080/"
        },
        "id": "WRnGCxikJKKF",
        "outputId": "303a6559-f80c-45a6-c322-0e43b362e673"
      },
      "execution_count": null,
      "outputs": [
        {
          "output_type": "execute_result",
          "data": {
            "text/plain": [
              "3"
            ]
          },
          "metadata": {},
          "execution_count": 10
        }
      ]
    },
    {
      "cell_type": "code",
      "source": [
        "math.floor(2.7)"
      ],
      "metadata": {
        "colab": {
          "base_uri": "https://localhost:8080/"
        },
        "id": "8dWnia0qJWwV",
        "outputId": "4e0b74f1-3b99-4377-f74c-f1ff070618c2"
      },
      "execution_count": null,
      "outputs": [
        {
          "output_type": "execute_result",
          "data": {
            "text/plain": [
              "2"
            ]
          },
          "metadata": {},
          "execution_count": 9
        }
      ]
    },
    {
      "cell_type": "code",
      "source": [
        "from math import sqrt\n",
        "sqrt(2)"
      ],
      "metadata": {
        "colab": {
          "base_uri": "https://localhost:8080/"
        },
        "id": "06gmTrD5JKDU",
        "outputId": "920beb1f-1dd4-4e89-9c4b-562ef6bb23e5"
      },
      "execution_count": null,
      "outputs": [
        {
          "output_type": "execute_result",
          "data": {
            "text/plain": [
              "1.4142135623730951"
            ]
          },
          "metadata": {},
          "execution_count": 12
        }
      ]
    },
    {
      "cell_type": "code",
      "source": [
        "~12"
      ],
      "metadata": {
        "colab": {
          "base_uri": "https://localhost:8080/"
        },
        "id": "4TALHlvcJell",
        "outputId": "539785d0-5e9e-46a7-f2e4-1bbff87244da"
      },
      "execution_count": null,
      "outputs": [
        {
          "output_type": "execute_result",
          "data": {
            "text/plain": [
              "-13"
            ]
          },
          "metadata": {},
          "execution_count": 13
        }
      ]
    },
    {
      "cell_type": "code",
      "source": [
        "12 & 13"
      ],
      "metadata": {
        "colab": {
          "base_uri": "https://localhost:8080/"
        },
        "id": "T_781q0KJkdi",
        "outputId": "482d1e27-678e-4eb6-83d6-86b08ca874da"
      },
      "execution_count": null,
      "outputs": [
        {
          "output_type": "execute_result",
          "data": {
            "text/plain": [
              "12"
            ]
          },
          "metadata": {},
          "execution_count": 14
        }
      ]
    },
    {
      "cell_type": "code",
      "source": [
        "a=2\n",
        "b=3\n",
        "a<3 & b<3"
      ],
      "metadata": {
        "colab": {
          "base_uri": "https://localhost:8080/"
        },
        "id": "xEHpxUJtJnMi",
        "outputId": "e2e63412-95f3-464a-9953-1ce56a257608"
      },
      "execution_count": null,
      "outputs": [
        {
          "output_type": "execute_result",
          "data": {
            "text/plain": [
              "False"
            ]
          },
          "metadata": {},
          "execution_count": 18
        }
      ]
    },
    {
      "cell_type": "code",
      "source": [
        "a&b"
      ],
      "metadata": {
        "colab": {
          "base_uri": "https://localhost:8080/"
        },
        "id": "o7I-CxUZJwYt",
        "outputId": "1bb34682-d1c3-4201-9419-ca231c90c285"
      },
      "execution_count": null,
      "outputs": [
        {
          "output_type": "execute_result",
          "data": {
            "text/plain": [
              "2"
            ]
          },
          "metadata": {},
          "execution_count": 19
        }
      ]
    },
    {
      "cell_type": "code",
      "source": [
        "x = input(\"Enter 1st number:\")\n",
        "y = input(\"Enter 2nd number:\")\n",
        "z = x + y\n",
        "print(z)"
      ],
      "metadata": {
        "colab": {
          "base_uri": "https://localhost:8080/"
        },
        "id": "CpikoHUALiFl",
        "outputId": "34da1041-99b1-41c6-80cd-0c341535ad3b"
      },
      "execution_count": null,
      "outputs": [
        {
          "output_type": "stream",
          "name": "stdout",
          "text": [
            "Enter 1st number:2\n",
            "Enter 2nd number:2\n",
            "22\n"
          ]
        }
      ]
    },
    {
      "cell_type": "code",
      "source": [
        "x = int(input(\"Enter 1st number:\"))\n",
        "y = int(input(\"Enter 2nd number:\"))\n",
        "z = x + y\n",
        "print(z)"
      ],
      "metadata": {
        "colab": {
          "base_uri": "https://localhost:8080/"
        },
        "id": "fCoaKvO6MHHu",
        "outputId": "e0b71f9d-2279-446d-dc2e-c1815f525514"
      },
      "execution_count": null,
      "outputs": [
        {
          "output_type": "stream",
          "name": "stdout",
          "text": [
            "Enter 1st number:2\n",
            "Enter 2nd number:2\n",
            "4\n"
          ]
        }
      ]
    },
    {
      "cell_type": "code",
      "source": [
        "ch = input('Enter a character:') [0]\n",
        "print(ch)"
      ],
      "metadata": {
        "colab": {
          "base_uri": "https://localhost:8080/"
        },
        "id": "d_i8oWuXMumW",
        "outputId": "e6573efb-df51-4480-8e0f-9ecfc726c638"
      },
      "execution_count": null,
      "outputs": [
        {
          "output_type": "stream",
          "name": "stdout",
          "text": [
            "Enter a character:yu\n",
            "y\n"
          ]
        }
      ]
    },
    {
      "cell_type": "code",
      "source": [
        "result = eval(input('Enter a character:'))\n",
        "print(result)"
      ],
      "metadata": {
        "colab": {
          "base_uri": "https://localhost:8080/"
        },
        "id": "9nCPPv2VNhr-",
        "outputId": "4672098f-88fc-4bd6-f71c-acc9ea5ea758"
      },
      "execution_count": null,
      "outputs": [
        {
          "output_type": "stream",
          "name": "stdout",
          "text": [
            "Enter a character:2+2\n",
            "4\n"
          ]
        }
      ]
    },
    {
      "cell_type": "code",
      "source": [
        "if False:\n",
        "  print('it false')\n",
        "elif True:\n",
        "  print(\"I'm true\")\n",
        "print('Bye')"
      ],
      "metadata": {
        "colab": {
          "base_uri": "https://localhost:8080/"
        },
        "id": "744zdBoINumy",
        "outputId": "be0316e6-777a-40ed-d358-04f6f0163e3d"
      },
      "execution_count": null,
      "outputs": [
        {
          "output_type": "stream",
          "name": "stdout",
          "text": [
            "I'm true\n",
            "Bye\n"
          ]
        }
      ]
    },
    {
      "cell_type": "code",
      "source": [
        "x = int(input('Enter x:'))\n",
        "y = int(input('Enter y:'))\n",
        "z = int(input('Enter z:'))\n",
        "if x>y and x>z:\n",
        "  print('x is greater')\n",
        "elif y>x and y>z:\n",
        "  print('y is greater')\n",
        "else:\n",
        "  print('z is greater')"
      ],
      "metadata": {
        "colab": {
          "base_uri": "https://localhost:8080/"
        },
        "id": "zlvmV3OGSS30",
        "outputId": "61ddda07-257b-4ffb-c570-f7145c0ac630"
      },
      "execution_count": null,
      "outputs": [
        {
          "output_type": "stream",
          "name": "stdout",
          "text": [
            "Enter x:2\n",
            "Enter y:3\n",
            "Enter z:4\n",
            "z is greater\n"
          ]
        }
      ]
    },
    {
      "cell_type": "code",
      "source": [
        "x = 1\n",
        "j = 1\n",
        "while x <= 5:\n",
        "  print(x)\n",
        "  while j<=5:\n",
        "    print('hi',end=\"\")\n",
        "    j += 1\n",
        "  x += 1\n",
        "print('after while',x)"
      ],
      "metadata": {
        "colab": {
          "base_uri": "https://localhost:8080/"
        },
        "id": "dloVYMFAS_Q_",
        "outputId": "68b4704d-ff60-4119-8dee-0576f862a884"
      },
      "execution_count": null,
      "outputs": [
        {
          "output_type": "stream",
          "name": "stdout",
          "text": [
            "1\n",
            "hihihihihi2\n",
            "3\n",
            "4\n",
            "5\n",
            "after while 6\n"
          ]
        }
      ]
    },
    {
      "cell_type": "code",
      "source": [
        "x = 1\n",
        "while x <= 5:\n",
        "  print(x,end=\"\")\n",
        "  j = 1\n",
        "  while j<=5:\n",
        "    print('hi',end=\"\")\n",
        "    j += 1\n",
        "  x += 1\n",
        "  print()\n",
        "print('after while',x,j)"
      ],
      "metadata": {
        "colab": {
          "base_uri": "https://localhost:8080/"
        },
        "id": "F8cCJvL9TXv1",
        "outputId": "588a06bd-f8cc-450b-ed82-db62bf90c12a"
      },
      "execution_count": null,
      "outputs": [
        {
          "output_type": "stream",
          "name": "stdout",
          "text": [
            "1hihihihihi\n",
            "2hihihihihi\n",
            "3hihihihihi\n",
            "4hihihihihi\n",
            "5hihihihihi\n",
            "after while 6 6\n"
          ]
        }
      ]
    },
    {
      "cell_type": "code",
      "source": [
        "x = 1\n",
        "while x <= 50:\n",
        "  if x%3!=0 and x%5!=0:\n",
        "    print(x,\"  \",end=\"\")\n",
        "  x+=1\n",
        "y = 1\n",
        "print(\"\\n\")\n",
        "while y <= 50:\n",
        "  if y%3==0 or y%5==0:\n",
        "    y+=1\n",
        "    continue\n",
        "  print(y,\"  \",end=\"\")\n",
        "  y+=1"
      ],
      "metadata": {
        "colab": {
          "base_uri": "https://localhost:8080/"
        },
        "id": "IW3R6_PBWUIN",
        "outputId": "7f825e24-b2ba-4d63-995a-9b4dce46f080"
      },
      "execution_count": null,
      "outputs": [
        {
          "output_type": "stream",
          "name": "stdout",
          "text": [
            "1   2   4   7   8   11   13   14   16   17   19   22   23   26   28   29   31   32   34   37   38   41   43   44   46   47   49   \n",
            "\n",
            "1   2   4   7   8   11   13   14   16   17   19   22   23   26   28   29   31   32   34   37   38   41   43   44   46   47   49   "
          ]
        }
      ]
    },
    {
      "cell_type": "markdown",
      "source": [
        "While works for iterations where for loop for working on list of values"
      ],
      "metadata": {
        "id": "QNybN-730mXL"
      }
    },
    {
      "cell_type": "code",
      "source": [
        "x = ['sup','prav','jana']\n",
        "for i in x:\n",
        "  print(i,\" \", end=\"\")\n",
        "print(\"\")\n",
        "for i in range(1,10):\n",
        "  print(i,\" \", end=\"\")\n",
        "print(\"\")\n",
        "for i in range(1,10,2):\n",
        "  print(i,\" \", end=\"\")\n",
        "print(\"\")\n",
        "for i in range(20,10,-2):\n",
        "  print(i,\" \", end=\"\")\n",
        "print(\"\")"
      ],
      "metadata": {
        "colab": {
          "base_uri": "https://localhost:8080/"
        },
        "id": "4C2CDdXQ0lL2",
        "outputId": "a686935d-f3e9-42bf-d678-f287caf3de50"
      },
      "execution_count": null,
      "outputs": [
        {
          "output_type": "stream",
          "name": "stdout",
          "text": [
            "sup  prav  jana  \n",
            "1  2  3  4  5  6  7  8  9  \n",
            "1  3  5  7  9  \n",
            "20  18  16  14  12  \n"
          ]
        }
      ]
    },
    {
      "cell_type": "code",
      "source": [
        "av = 5\n",
        "x = int(input('Enter a number:'))\n",
        "i = 1\n",
        "while i <= x:\n",
        "  if i > av:\n",
        "    print('out of stock')\n",
        "    break\n",
        "  print(i,\" \", end = \" \")\n",
        "  i+=1"
      ],
      "metadata": {
        "colab": {
          "base_uri": "https://localhost:8080/"
        },
        "id": "fBjElz5AhujT",
        "outputId": "d5a6197c-e532-43af-84f7-b322ccabfa76"
      },
      "execution_count": null,
      "outputs": [
        {
          "output_type": "stream",
          "name": "stdout",
          "text": [
            "Enter a number:6\n",
            "1   2   3   4   5   out of stock\n"
          ]
        }
      ]
    },
    {
      "cell_type": "markdown",
      "source": [
        "pass: we normally use to skip the function or method or condition"
      ],
      "metadata": {
        "id": "addW8FgDwkrj"
      }
    },
    {
      "cell_type": "code",
      "source": [
        "for i in range(1,101):\n",
        "  if i%2!=0:\n",
        "    pass\n",
        "  else:\n",
        "    print(i,\" \", end=\"\")"
      ],
      "metadata": {
        "colab": {
          "base_uri": "https://localhost:8080/"
        },
        "id": "NUTDCcQytinS",
        "outputId": "f5a001ec-48f7-4389-8956-6652e6efa99a"
      },
      "execution_count": null,
      "outputs": [
        {
          "output_type": "stream",
          "name": "stdout",
          "text": [
            "2  4  6  8  10  12  14  16  18  20  22  24  26  28  30  32  34  36  38  40  42  44  46  48  50  52  54  56  58  60  62  64  66  68  70  72  74  76  78  80  82  84  86  88  90  92  94  96  98  100  "
          ]
        }
      ]
    },
    {
      "cell_type": "code",
      "source": [
        "x = int(input('Enter a number:'))\n",
        "for i in range(1,x+1):\n",
        "  for j in range(4-i+1):\n",
        "    print(\"*\",end=\" \")\n",
        "  print(\"\\n\")"
      ],
      "metadata": {
        "colab": {
          "base_uri": "https://localhost:8080/"
        },
        "id": "DlXK5WtpuT5S",
        "outputId": "8d05da66-9c30-47e0-aa77-f91fbf9247d0"
      },
      "execution_count": null,
      "outputs": [
        {
          "output_type": "stream",
          "name": "stdout",
          "text": [
            "Enter a number:4\n",
            "* * * * \n",
            "\n",
            "* * * \n",
            "\n",
            "* * \n",
            "\n",
            "* \n",
            "\n"
          ]
        }
      ]
    },
    {
      "cell_type": "code",
      "source": [
        "x = int(input('Enter a number:'))\n",
        "for i in range(1,x+1):\n",
        "  for j in range(1,4-i+2):\n",
        "    print(j,end=\" \")\n",
        "  print(\"\\n\")"
      ],
      "metadata": {
        "colab": {
          "base_uri": "https://localhost:8080/"
        },
        "id": "8CfUs12NzksX",
        "outputId": "b9d60d17-491a-4121-df56-e9696647f9f6"
      },
      "execution_count": null,
      "outputs": [
        {
          "output_type": "stream",
          "name": "stdout",
          "text": [
            "Enter a number:4\n",
            "1 2 3 4 \n",
            "\n",
            "1 2 3 \n",
            "\n",
            "1 2 \n",
            "\n",
            "1 \n",
            "\n"
          ]
        }
      ]
    },
    {
      "cell_type": "code",
      "source": [
        "#For else\n",
        "nums = [12,16,18,21,25,20]\n",
        "for num in nums:\n",
        "  if num%5 == 0:\n",
        "    print(num,end=\" \")\n",
        "    break\n",
        "  else:\n",
        "    print(\"not found\",end=\" \")\n",
        "\n",
        "print(\"\\nFor else:\")\n",
        "nums = [12,16,18,21,29,25]\n",
        "for num in nums:\n",
        "  if num%5 == 0:\n",
        "    print(num,end=\" \")\n",
        "    break\n",
        "else:\n",
        "  print(\"not found\",end=\" \")"
      ],
      "metadata": {
        "colab": {
          "base_uri": "https://localhost:8080/"
        },
        "id": "A6iCrwcB7LQY",
        "outputId": "f2e94a18-a6eb-4798-d6c8-38cdea11d014"
      },
      "execution_count": null,
      "outputs": [
        {
          "output_type": "stream",
          "name": "stdout",
          "text": [
            "not found not found not found not found 25 \n",
            "For else:\n",
            "25 "
          ]
        }
      ]
    },
    {
      "cell_type": "code",
      "source": [
        "num = 25 # int(input('Enter a number:'))\n",
        "for i in range(2,num):\n",
        "  if num%i == 0:\n",
        "    print(num,\"is not prime\")\n",
        "    break\n",
        "else:\n",
        "  print(num,\"is prime\")\n",
        "import math as m\n",
        "\n",
        "#Efficient code\n",
        "def is_prime(n):\n",
        "  if n<=1 or n%2==0 or n%3==0:\n",
        "    return False\n",
        "  if n<=3:\n",
        "    return True\n",
        "  for i in range(5, int(m.sqrt(n)), 6):\n",
        "    if n%i==0 or n%(i+2)==0:\n",
        "      return False\n",
        "  return True\n",
        "total = []\n",
        "for i in range(1,num+1):\n",
        "  if is_prime(i):\n",
        "    print(i,\" \",end=\"\")\n",
        "    total.append(i)\n",
        "print(\"\\n\",total)"
      ],
      "metadata": {
        "colab": {
          "base_uri": "https://localhost:8080/"
        },
        "id": "IxrB_OjK_b60",
        "outputId": "597c6ba3-861d-4560-e956-9f240980ee9a"
      },
      "execution_count": null,
      "outputs": [
        {
          "output_type": "stream",
          "name": "stdout",
          "text": [
            "25 is not prime\n",
            "5  7  11  13  17  19  23  25  \n",
            " [5, 7, 11, 13, 17, 19, 23, 25]\n"
          ]
        }
      ]
    },
    {
      "cell_type": "markdown",
      "source": [
        "###ARRAY"
      ],
      "metadata": {
        "id": "vLC0X5Rsvo1q"
      }
    },
    {
      "cell_type": "code",
      "source": [
        "from array import *\n",
        "vals = array('i',[2,3,5,-3])\n",
        "b = vals.itemsize\n",
        "print(b)\n",
        "for i in range(len(vals)):\n",
        "  print(vals[i],end=\" \")\n",
        "print(\"\")\n",
        "for e in vals:\n",
        "  print(e, end= \" \")"
      ],
      "metadata": {
        "colab": {
          "base_uri": "https://localhost:8080/"
        },
        "id": "GLXEr_kevIjm",
        "outputId": "e7433021-505a-494a-dffe-c31a43be1943"
      },
      "execution_count": null,
      "outputs": [
        {
          "output_type": "stream",
          "name": "stdout",
          "text": [
            "4\n",
            "2 3 5 -3 \n",
            "2 3 5 -3 "
          ]
        }
      ]
    },
    {
      "cell_type": "code",
      "source": [
        "vals = array('i',[5,9,8,7])\n",
        "newArr = vals\n",
        "for e in newArr:\n",
        "  print(e,end=\" \")\n",
        "newArr = array(vals.typecode, (a*a for a in vals))\n",
        "print(newArr)"
      ],
      "metadata": {
        "colab": {
          "base_uri": "https://localhost:8080/"
        },
        "id": "9YoqVB0SyT6_",
        "outputId": "2cd0eb36-280e-4b3e-f23f-1dd79fce9734"
      },
      "execution_count": null,
      "outputs": [
        {
          "output_type": "stream",
          "name": "stdout",
          "text": [
            "5 9 8 7 array('i', [25, 81, 64, 49])\n"
          ]
        }
      ]
    },
    {
      "cell_type": "code",
      "source": [
        "#Factorial\n",
        "def factorial(n):\n",
        "  res = 1\n",
        "  for i in range(2,n+1):\n",
        "    res = res*i\n",
        "  return res\n",
        "\n",
        "print(factorial(1))\n",
        "\n",
        "def recursive(n):\n",
        "  if n==0 or n==1:\n",
        "    return 1\n",
        "  else:\n",
        "    return n*recursive(n-1)\n",
        "\n",
        "print(recursive(5))"
      ],
      "metadata": {
        "colab": {
          "base_uri": "https://localhost:8080/"
        },
        "id": "eg4pbs1OzGxl",
        "outputId": "876c59b5-4bc7-47de-8050-6ad815827947"
      },
      "execution_count": null,
      "outputs": [
        {
          "output_type": "stream",
          "name": "stdout",
          "text": [
            "1\n",
            "120\n"
          ]
        }
      ]
    },
    {
      "cell_type": "code",
      "source": [
        "from array import *\n",
        "arr = array('i',[])\n",
        "for e in range(5):\n",
        "  arr.append(e)\n",
        "print(arr)\n",
        "a = arr.tolist\n",
        "print(a)"
      ],
      "metadata": {
        "colab": {
          "base_uri": "https://localhost:8080/"
        },
        "id": "_xvb-r0U4BSe",
        "outputId": "82f11a6e-872f-4a52-ec09-8b40421d260d"
      },
      "execution_count": null,
      "outputs": [
        {
          "output_type": "stream",
          "name": "stdout",
          "text": [
            "array('i', [0, 1, 2, 3, 4])\n",
            "<built-in method tolist of array.array object at 0x7ec12dc3fb00>\n"
          ]
        }
      ]
    },
    {
      "cell_type": "code",
      "source": [
        "from numpy import *\n",
        "arr1 = array([2,2,3,3])\n",
        "arr = array([2,2,3,3.0])\n",
        "print(arr.dtype,\" \",arr)\n",
        "print(arr1.dtype,\" \",arr1)"
      ],
      "metadata": {
        "colab": {
          "base_uri": "https://localhost:8080/"
        },
        "id": "Gti_9Mhi-Vwh",
        "outputId": "1875551f-4520-46c9-eaab-e3593e88f4df"
      },
      "execution_count": null,
      "outputs": [
        {
          "output_type": "stream",
          "name": "stdout",
          "text": [
            "float64   [2. 2. 3. 3.]\n",
            "int64   [2 2 3 3]\n"
          ]
        }
      ]
    },
    {
      "cell_type": "code",
      "source": [
        "#Linspace: divides a range of numbers by given parts\n",
        "#Default parts is 50, if value not specified\n",
        "arr = linspace(0,16,10 )\n",
        "print(arr)\n",
        "arr = linspace(0,16,17 )\n",
        "print(arr)"
      ],
      "metadata": {
        "colab": {
          "base_uri": "https://localhost:8080/"
        },
        "id": "7hDtQJFAXau7",
        "outputId": "6762f830-a397-4172-9db6-5f2e71115ab4"
      },
      "execution_count": null,
      "outputs": [
        {
          "output_type": "stream",
          "name": "stdout",
          "text": [
            "[ 0.          1.77777778  3.55555556  5.33333333  7.11111111  8.88888889\n",
            " 10.66666667 12.44444444 14.22222222 16.        ]\n",
            "[ 0.  1.  2.  3.  4.  5.  6.  7.  8.  9. 10. 11. 12. 13. 14. 15. 16.]\n"
          ]
        }
      ]
    },
    {
      "cell_type": "code",
      "source": [
        "#arange: the gaps between each number is specified for a given range\n",
        "arr = arange(0,16,2)\n",
        "print(arr)"
      ],
      "metadata": {
        "colab": {
          "base_uri": "https://localhost:8080/"
        },
        "id": "mHUkovotap71",
        "outputId": "22939a67-aeac-4d0d-a350-2bf49677057c"
      },
      "execution_count": null,
      "outputs": [
        {
          "output_type": "stream",
          "name": "stdout",
          "text": [
            "[ 0  2  4  6  8 10 12 14]\n"
          ]
        }
      ]
    },
    {
      "cell_type": "code",
      "source": [
        "#logspace: space betwwen two numbers based on the log , and dividing into given\n",
        "#parts\n",
        "arr = logspace(0,40,5)\n",
        "print(arr)\n",
        "print('%.2f' %arr[4])"
      ],
      "metadata": {
        "id": "LMiLB9zSgDic",
        "colab": {
          "base_uri": "https://localhost:8080/"
        },
        "outputId": "3f5c0302-513e-4a68-bd34-1cd8683074a6"
      },
      "execution_count": null,
      "outputs": [
        {
          "output_type": "stream",
          "name": "stdout",
          "text": [
            "[1.e+00 1.e+10 1.e+20 1.e+30 1.e+40]\n",
            "10000000000000000303786028427003666890752.00\n"
          ]
        }
      ]
    },
    {
      "cell_type": "code",
      "source": [
        "#zeros and ones\n",
        "arr = zeros(5)\n",
        "print(arr)\n",
        "arr1 = ones(5,int)\n",
        "print(arr1)"
      ],
      "metadata": {
        "colab": {
          "base_uri": "https://localhost:8080/"
        },
        "id": "YB7-LOxfmFGj",
        "outputId": "680dba63-a5dc-497d-a527-b7672f005758"
      },
      "execution_count": null,
      "outputs": [
        {
          "output_type": "stream",
          "name": "stdout",
          "text": [
            "[0. 0. 0. 0. 0.]\n",
            "[1 1 1 1 1]\n"
          ]
        }
      ]
    },
    {
      "cell_type": "code",
      "source": [
        "#\n",
        "arr = array([1,6,3,4,5])\n",
        "arr2 = array([1,2,3,4,5])\n",
        "print(arr+arr2)\n",
        "arr = arr + 5\n",
        "print(arr)\n",
        "print('sin:',sin(arr2))\n",
        "print('sqrt:',sqrt(arr2))\n",
        "print('sum:',sum(arr2))\n",
        "print('max:',max(arr2))\n",
        "print('sort:',sort(arr2))\n",
        "print('concat:',concatenate([arr,arr2]))"
      ],
      "metadata": {
        "colab": {
          "base_uri": "https://localhost:8080/"
        },
        "id": "9P6abGzZnyzn",
        "outputId": "fcd7df6f-1f7e-4c34-fc5f-d952033c85ad"
      },
      "execution_count": null,
      "outputs": [
        {
          "output_type": "stream",
          "name": "stdout",
          "text": [
            "[ 2  8  6  8 10]\n",
            "[ 6 11  8  9 10]\n",
            "sin: [ 0.84147098  0.90929743  0.14112001 -0.7568025  -0.95892427]\n",
            "sqrt: [1.         1.41421356 1.73205081 2.         2.23606798]\n",
            "sum: 15\n",
            "max: 5\n",
            "sort: [1 2 3 4 5]\n",
            "concat: [ 6 11  8  9 10  1  2  3  4  5]\n"
          ]
        }
      ]
    },
    {
      "cell_type": "code",
      "source": [
        "from numpy import *\n",
        "arr1 = array([1,2,3,42,3])\n",
        "#Aliasing: single memory space with the same values when copied\n",
        "arr2 = arr1\n",
        "print(arr2)\n",
        "print(id(arr1),id(arr2))\n",
        "\n",
        "#To create a new array at different location\n",
        "#1.Shallow copy\n",
        "arr2 = arr1.view()\n",
        "arr1[1] = 7\n",
        "arr2[2] = 8\n",
        "\n",
        "print('Shallow copy:values changed:',arr1,arr2)\n",
        "print('Shallow copy:address is different:',id(arr1),id(arr2))\n",
        "#2.Deep copy\n",
        "arr2 = arr1.copy()\n",
        "arr1[1] = 33\n",
        "arr2[2] = 22\n",
        "print('Deep copy:values changed:',arr1,arr2)\n",
        "print('Deep copy:address is different:',id(arr1),id(arr2))"
      ],
      "metadata": {
        "colab": {
          "base_uri": "https://localhost:8080/"
        },
        "id": "aQrdRaj6pLIR",
        "outputId": "2d2bf10d-546f-47de-a8ff-6552f64beead"
      },
      "execution_count": null,
      "outputs": [
        {
          "output_type": "stream",
          "name": "stdout",
          "text": [
            "[ 1  2  3 42  3]\n",
            "135910765177776 135910765177776\n",
            "Shallow copy:values changed: [ 1  7  8 42  3] [ 1  7  8 42  3]\n",
            "Shallow copy:address is different: 135910765177776 135910765178352\n",
            "[ 1  7  8 42  3] <built-in method sort of numpy.ndarray object at 0x7b9c30e12df0>\n",
            "Deep copy:values changed: [ 1 33  8 42  3] [ 1  7 22 42  3]\n",
            "Deep copy:address is different: 135910765177776 135910765180560\n"
          ]
        }
      ]
    },
    {
      "cell_type": "code",
      "source": [
        "#ARRAYS\n",
        "arr1 = array([ [1,2,3,2,3,2],\n",
        "               [4,5,6,5,6,4] ])\n",
        "arr2 = arr1.flatten()\n",
        "print(arr2.reshape(3,4),'\\n')\n",
        "arr3 = arr2.reshape(2,2,3)\n",
        "print(arr2,'\\n2 arrays of 2X3:\\n ' ,arr3)"
      ],
      "metadata": {
        "colab": {
          "base_uri": "https://localhost:8080/"
        },
        "id": "2xFr_wmQS80N",
        "outputId": "67d4f80b-63ea-46c1-bb15-c10f2af69dea"
      },
      "execution_count": null,
      "outputs": [
        {
          "output_type": "stream",
          "name": "stdout",
          "text": [
            "[[1 2 3 2]\n",
            " [3 2 4 5]\n",
            " [6 5 6 4]] \n",
            "\n",
            "[1 2 3 2 3 2 4 5 6 5 6 4] \n",
            "2 arrays of 2X3:\n",
            "  [[[1 2 3]\n",
            "  [2 3 2]]\n",
            "\n",
            " [[4 5 6]\n",
            "  [5 6 4]]]\n"
          ]
        }
      ]
    },
    {
      "cell_type": "code",
      "source": [
        "arr1 = array([ [1,2,3,2],\n",
        "               [4,5,6,5] ])\n",
        "\n",
        "mat1 = matrix(arr1)\n",
        "#Output looks same but there can be many operations done\n",
        "print(mat1)\n",
        "#another way for matrix\n",
        "mat2 = matrix('1 2 3; 3 4 4')\n",
        "print(mat2)\n",
        "#get diagonal elements\n",
        "print(diagonal(mat2))\n",
        "print(mat2.max())"
      ],
      "metadata": {
        "colab": {
          "base_uri": "https://localhost:8080/"
        },
        "id": "oW0sbhN6p2zU",
        "outputId": "b1895245-b48a-445a-da1f-bd87096f6295"
      },
      "execution_count": null,
      "outputs": [
        {
          "output_type": "stream",
          "name": "stdout",
          "text": [
            "[[1 2 3 2]\n",
            " [4 5 6 5]]\n",
            "[[1 2 3]\n",
            " [3 4 4]]\n",
            "[1 4]\n",
            "4\n"
          ]
        }
      ]
    },
    {
      "cell_type": "code",
      "source": [
        "#Multiplying matrice\n",
        "from numpy import *\n",
        "a = random.rand(3,4)\n",
        "b = random.rand(4,3)\n",
        "\n",
        "#Input form user\n",
        "#input()\tTakes user input as a string\n",
        "#.split()\tSplits it into list of strings\n",
        "#map(int, ...)\tConverts strings to integers\n",
        "#list(...)\tConverts to list of integers\n",
        "#mat.append(...)\tAdds it as a new row to mat\n",
        "mat = []\n",
        "for _ in range(2):  # 2 rows example\n",
        "#using _ as i is not needed\n",
        "    mat.append(list(map(int, input().split())))\n",
        "a = array(mat)\n",
        "\n",
        "\n",
        "a = array([[2,3,4], [3,5,6]])\n",
        "b = array([[2,3],[3,6], [2,3]])\n",
        "\n",
        "x,y= matrix(a),matrix(b)\n",
        "rows,cols,r = a.shape[0],b.shape[1],b.shape[0]\n",
        "c= zeros((rows,cols))\n",
        "for i in range(rows):\n",
        "  for j in range(cols):\n",
        "    for k in range(r):\n",
        "      c[i][j]+= a[i][k]*b[k][j]\n",
        "\n",
        "print(c)\n",
        "#Convert array to matrix as integer format\n",
        "z=matrix(c,int)\n",
        "print(z)\n",
        "#MArtix Multiplication is only possible on matrices, so x,y are matrix converted from a,b\n",
        "print(x*y)\n"
      ],
      "metadata": {
        "colab": {
          "base_uri": "https://localhost:8080/"
        },
        "id": "mKmaP1zZqhOt",
        "outputId": "521ab704-357c-437f-c008-3183b9051997"
      },
      "execution_count": null,
      "outputs": [
        {
          "output_type": "stream",
          "name": "stdout",
          "text": [
            "2 3 4\n",
            "3 4 5\n",
            "[[21. 36.]\n",
            " [33. 57.]]\n",
            "[[21 36]\n",
            " [33 57]]\n",
            "[[21 36]\n",
            " [33 57]]\n"
          ]
        }
      ]
    },
    {
      "cell_type": "code",
      "source": [
        "#Functions\n",
        "#1.Immutable objects:values are not changed when changed inside a function\n",
        "print('Immutable objects when modified in function:')\n",
        "def update(x):\n",
        "  print('before change', x,id(x))\n",
        "  x=8\n",
        "  print('after change ', x,id(x))\n",
        "#Integer strings are immutable\n",
        "a=3\n",
        "print('before update',a,id(a))\n",
        "update(a)\n",
        "print('after update ',a,id(a))\n",
        "#Passby value: value is not changed\n",
        "\n",
        "#1.Mutable objects:values are changed when changed inside a function\n",
        "print('Mutable objects when modified in function:')\n",
        "def update1(x):\n",
        "  print('before change', x,id(x))\n",
        "  x[1]=3\n",
        "  print('after change ', x,id(x))\n",
        "#Integer strings are immutable\n",
        "lst=[3 , 2,4]\n",
        "print('before update',lst,id(lst))\n",
        "update1(lst)\n",
        "print('after update ',lst,id(lst))\n",
        "#Passby value: value is not changed"
      ],
      "metadata": {
        "colab": {
          "base_uri": "https://localhost:8080/"
        },
        "id": "fbLlV60dqJDG",
        "outputId": "847384a2-21d6-4214-ff5c-af6b4c922b8e"
      },
      "execution_count": null,
      "outputs": [
        {
          "output_type": "stream",
          "name": "stdout",
          "text": [
            "Immutable objects when modified in function:\n",
            "before update 3 10757800\n",
            "before change 3 10757800\n",
            "after change  8 10757960\n",
            "after update  3 10757800\n",
            "Mutable objects when modified in function:\n",
            "before update [3, 2, 4] 138160298019264\n",
            "before change [3, 2, 4] 138160298019264\n",
            "after change  [3, 3, 4] 138160298019264\n",
            "after update  [3, 3, 4] 138160298019264\n"
          ]
        }
      ]
    },
    {
      "cell_type": "code",
      "source": [
        "#Types of arguments\n",
        "from numpy import *\n",
        "#1.keyword argument\n",
        "def person(name,age):\n",
        "  print(name,age)\n",
        "person(age='28',name='sup')\n",
        "\n",
        "#2. default arguments\n",
        "def person1(name,age=18):\n",
        "  print(name,age)\n",
        "person1('sup',28)\n",
        "person1('sup')\n",
        "\n",
        "#3. Variable length arguments\n",
        "def sum(a,*b):\n",
        "  c=a\n",
        "  for i in b:\n",
        "    c+=i\n",
        "  print(c)\n",
        "sum(5,6,10)"
      ],
      "metadata": {
        "colab": {
          "base_uri": "https://localhost:8080/"
        },
        "id": "yXfqXfYtp9ga",
        "outputId": "a8bad1d8-481b-4a93-b748-f003f34fd88d"
      },
      "execution_count": null,
      "outputs": [
        {
          "output_type": "stream",
          "name": "stdout",
          "text": [
            "sup 28\n",
            "sup 28\n",
            "sup 18\n",
            "21\n"
          ]
        }
      ]
    },
    {
      "cell_type": "code",
      "source": [
        "#Variable length argument with key\n",
        "def person(name,*data):\n",
        " #data is tuple\n",
        "  print(data)\n",
        "person('sup',28,'Bang',9630)\n",
        "def person1(name,**data):\n",
        " #**data is tuple with key\n",
        "  print(data)\n",
        "  for i,j in data.items():\n",
        "    print(i,j)\n",
        "person1('sup',age=28,city='Bang',num=9630)"
      ],
      "metadata": {
        "colab": {
          "base_uri": "https://localhost:8080/"
        },
        "id": "5yF-IDgW5VXI",
        "outputId": "e5373c1a-4347-41f8-eb65-2e2f23b23adc"
      },
      "execution_count": null,
      "outputs": [
        {
          "output_type": "stream",
          "name": "stdout",
          "text": [
            "(28, 'Bang', 9630)\n",
            "{'age': 28, 'city': 'Bang', 'num': 9630}\n",
            "age 28\n",
            "city Bang\n",
            "num 9630\n"
          ]
        }
      ]
    },
    {
      "cell_type": "code",
      "source": [
        "#Global keyword in Python\n",
        "#Scope\n",
        "\n",
        "def func():\n",
        "  a = 15\n",
        "  print('in func',a)\n",
        "a = 10\n",
        "func()\n",
        "print('outisde fun',a)\n",
        "\n",
        "#when declarin variable as global,it changes the value\n",
        "#\n",
        "a = 10\n",
        "print(id(a))\n",
        "def func():\n",
        "  global a #any function made on global variable will reflect everywhere\n",
        " # global a #using a global variable\n",
        "  x=globals()['a']\n",
        "  a = 15\n",
        "  print(id(a))\n",
        "\n",
        "  print('in func',a)\n",
        "\n",
        "func()\n",
        "print('outisde fun',a)\n"
      ],
      "metadata": {
        "colab": {
          "base_uri": "https://localhost:8080/"
        },
        "id": "gSgvj83U985G",
        "outputId": "191f1b72-c7f4-467d-da82-d69c683068c9"
      },
      "execution_count": null,
      "outputs": [
        {
          "output_type": "stream",
          "name": "stdout",
          "text": [
            "in func 15\n",
            "outisde fun 10\n",
            "10758024\n",
            "10758184\n",
            "in func 15\n",
            "outisde fun 15\n"
          ]
        }
      ]
    },
    {
      "cell_type": "code",
      "source": [
        "#Pass a list to a function\n",
        "def func(lst):\n",
        "  even,odd=0,0\n",
        "\n",
        "  for i in lst:\n",
        "    if i %2==0:\n",
        "      even+=1\n",
        "    else:\n",
        "      odd+=1\n",
        "  return even,odd\n",
        "\n",
        "a = [2,3,4,5,3,4]\n",
        "even,odd = func(a)\n",
        "print(\"Even:{} and Odd:{}\".format(even, odd))"
      ],
      "metadata": {
        "colab": {
          "base_uri": "https://localhost:8080/"
        },
        "id": "vyna2a_2BorS",
        "outputId": "b1b23965-376b-45f4-9e40-5b83d22a96f0"
      },
      "execution_count": null,
      "outputs": [
        {
          "output_type": "stream",
          "name": "stdout",
          "text": [
            "Even:3 and Odd:3\n"
          ]
        }
      ]
    },
    {
      "cell_type": "code",
      "source": [
        "#Fibonacci series\n",
        "def fibonacci(lst):\n",
        "  y = []\n",
        "  y.append(0)\n",
        "  y.append(1)\n",
        "  a,b=0,1\n",
        "  for i in range(2,lst):\n",
        "    c=a+b\n",
        "    a=b\n",
        "    b=c\n",
        "    y.append(c)\n",
        "  return y\n",
        "\n",
        "res = fibonacci(10)\n",
        "print(res)"
      ],
      "metadata": {
        "colab": {
          "base_uri": "https://localhost:8080/"
        },
        "id": "8YKNZMnFEkF5",
        "outputId": "3ba70615-ea68-4bcb-fb63-14033994d2fc"
      },
      "execution_count": null,
      "outputs": [
        {
          "output_type": "stream",
          "name": "stdout",
          "text": [
            "[0, 1, 1, 2, 3, 5, 8, 13, 21, 34]\n"
          ]
        }
      ]
    },
    {
      "cell_type": "code",
      "source": [
        "#Factorial\n",
        "def fact(n):\n",
        "  res=1\n",
        "  for i in range(1,n+1):\n",
        "    res*=i\n",
        "  return res\n",
        "print(fact(4))\n",
        "#Recursive function factorial\n",
        "def fact(n):\n",
        "  if n==0:\n",
        "    return 1\n",
        "  return n*fact(n-1)\n",
        "res= fact(4)\n",
        "print(res)"
      ],
      "metadata": {
        "colab": {
          "base_uri": "https://localhost:8080/"
        },
        "id": "y0NbbvpBH-2m",
        "outputId": "39f954d8-ba2f-4ea2-bea4-0e29b823b815"
      },
      "execution_count": null,
      "outputs": [
        {
          "output_type": "stream",
          "name": "stdout",
          "text": [
            "24\n",
            "24\n"
          ]
        }
      ]
    },
    {
      "cell_type": "code",
      "source": [
        "#Lambda: Anonymus function\n",
        "#Means function without name,which can have just one expression\n",
        "f= lambda a,b:a+b\n",
        "res = f(5,4)\n",
        "print(res)\n",
        "\n",
        "#Filter Map Reduce\n",
        "nums = [1,2,3,4,5,6]\n",
        "\n",
        "#Filter: to filter the value based on a condition\n",
        "evens = list(filter(lambda n: n%2==0 ,nums))\n",
        "print('Filter:',evens)\n",
        "#Map:\n",
        "doubles= list(map(lambda n:n*2,nums))\n",
        "print('Map:',doubles)\n",
        "#Reduce: to find one value\n",
        "from functools import reduce\n",
        "red = reduce(lambda x,y: x+y,doubles)\n",
        "print('Reduce:',red)"
      ],
      "metadata": {
        "colab": {
          "base_uri": "https://localhost:8080/"
        },
        "id": "h_N8SeP1Mvfe",
        "outputId": "0bef86c4-7449-4685-f301-3fc401efbb08"
      },
      "execution_count": null,
      "outputs": [
        {
          "output_type": "stream",
          "name": "stdout",
          "text": [
            "9\n",
            "Filter: [2, 4, 6]\n",
            "Map: [2, 4, 6, 8, 10, 12]\n",
            "Reduce: 42\n"
          ]
        }
      ]
    },
    {
      "cell_type": "code",
      "source": [
        "#decorators\n",
        "def div(a,b):\n",
        "  return a/b\n",
        "def smart(func):\n",
        "  def inner(a,b):\n",
        "    if a<b:\n",
        "      a,b = b,a\n",
        "    return func(a,b)\n",
        "  return inner\n",
        "\n",
        "div1 = smart(div)\n",
        "div1(2,4)"
      ],
      "metadata": {
        "colab": {
          "base_uri": "https://localhost:8080/"
        },
        "id": "wGkFFy9cprsN",
        "outputId": "6856a5f8-357a-425d-c843-32f624a5dbad"
      },
      "execution_count": null,
      "outputs": [
        {
          "output_type": "execute_result",
          "data": {
            "text/plain": [
              "2.0"
            ]
          },
          "metadata": {},
          "execution_count": 11
        }
      ]
    },
    {
      "cell_type": "code",
      "source": [
        "class Computer:\n",
        "    def config(self):\n",
        "        print(\"i5,16GB\")\n",
        "\n",
        "a = '8'\n",
        "print(type(a))\n",
        "#str is an inbuilt class: see the output\n",
        "#As everything is an object in Python\n",
        "comp1 = Computer()\n",
        "print(type(comp1))\n",
        "\n",
        "#1.one way of calling a method\n",
        "comp1.config()\n",
        "#2.second way of calling method\n",
        "Computer.config(comp1)\n",
        "a=5\n",
        "a.bit_length()"
      ],
      "metadata": {
        "colab": {
          "base_uri": "https://localhost:8080/"
        },
        "id": "LOeJKnl6yWo3",
        "outputId": "a6fb5260-defb-498e-f5a6-047c53de3108"
      },
      "execution_count": null,
      "outputs": [
        {
          "output_type": "stream",
          "name": "stdout",
          "text": [
            "<class 'str'>\n",
            "<class '__main__.Computer'>\n",
            "i5,16GB\n",
            "i5,16GB\n"
          ]
        },
        {
          "output_type": "execute_result",
          "data": {
            "text/plain": [
              "3"
            ]
          },
          "metadata": {},
          "execution_count": 4
        }
      ]
    },
    {
      "cell_type": "code",
      "source": [
        "#OOPs\n",
        "\n",
        "class Computer:\n",
        "    #__init__is constructor\n",
        "    def __init__(self,cpu,ram):\n",
        "        self.cpu = cpu\n",
        "        self.ram = ram\n",
        "\n",
        "    def config(self):\n",
        "        print(self.cpu,self.ram)\n",
        "\n",
        "comp1 = Computer('i5',17)\n",
        "comp2 = Computer('i7',20)\n",
        "\n",
        "comp1.config()\n",
        "comp2.config()"
      ],
      "metadata": {
        "colab": {
          "base_uri": "https://localhost:8080/"
        },
        "id": "xBGM5ijZ1p0A",
        "outputId": "80d464c7-bff6-4f28-ad10-ef32447fd57f"
      },
      "execution_count": null,
      "outputs": [
        {
          "output_type": "stream",
          "name": "stdout",
          "text": [
            "i5 17\n",
            "i7 20\n"
          ]
        }
      ]
    },
    {
      "cell_type": "code",
      "source": [
        "#Constructor,Self and Comparing Objects\n",
        "class computer:\n",
        "  pass\n",
        "c1 = computer()\n",
        "c2 = computer()\n",
        "print(id(c1))\n",
        "print(id(c2))\n",
        "#notice that it is differenc address for each object\n",
        "#how much space does it take-> the size depends on the no. of variables\n",
        "#and the size of it\n",
        "\n",
        "\n",
        "class computer:\n",
        "  def __init__(self):\n",
        "    self.name = \"Supr\"\n",
        "    self.age = 28\n",
        "  def update(self):\n",
        "    #Self will update only that particular object\n",
        "    self.age = 30\n",
        "  def compare(self,other):\n",
        "    if self.age == other.age:\n",
        "      return True\n",
        "    else:\n",
        "      return False\n",
        "c1 = computer()\n",
        "c2 = computer()\n",
        "c1.name = 'PRav'\n",
        "c1.update()\n",
        "print(c1.name,c1.age)\n",
        "print(c2.name,c2.age)\n",
        "\n",
        "#Notice that second parameter is an object\n",
        "if c1.compare(c2):\n",
        "  pass\n",
        "else:\n",
        "  print('different age')\n"
      ],
      "metadata": {
        "colab": {
          "base_uri": "https://localhost:8080/"
        },
        "id": "VXtUt18Iyj-6",
        "outputId": "91689ff5-fb03-4b12-9146-085f949433cf"
      },
      "execution_count": null,
      "outputs": [
        {
          "output_type": "stream",
          "name": "stdout",
          "text": [
            "138264646464720\n",
            "138264646451728\n",
            "PRav 30\n",
            "Supr 28\n",
            "different age\n"
          ]
        }
      ]
    },
    {
      "cell_type": "code",
      "source": [
        "#TYPES OF VARIABLES\n",
        "class car:\n",
        "  #1.Class/static Variable\n",
        "  wheels = 4\n",
        "  def __init__(self):\n",
        "    #Variables are defined in __init__\n",
        "    #2.Instance variable\n",
        "    self.mil = 10\n",
        "    self.com = \"BMW\"\n",
        "\n",
        "c1 = car()\n",
        "c2 = car()\n",
        "c1.mil = 13\n",
        "#Notice how the instance an class/static variables are called\n",
        "print(c1.mil,c1.wheels)\n",
        "print(c2.mil,car.wheels)\n",
        "\n",
        "#Namespace: is an area where you create and store object/variable"
      ],
      "metadata": {
        "colab": {
          "base_uri": "https://localhost:8080/"
        },
        "id": "hvmbRJ4Vyjsg",
        "outputId": "2af106c6-5d0f-4ea3-f33b-b4690df29e7a"
      },
      "execution_count": null,
      "outputs": [
        {
          "output_type": "stream",
          "name": "stdout",
          "text": [
            "13 4\n",
            "10 4\n"
          ]
        }
      ]
    },
    {
      "cell_type": "code",
      "source": [
        "#TYPES OF METHODS\n",
        "#Instance,Class and Static\n",
        "class student:\n",
        "  school = 'KV'\n",
        "  def __init__(self,m1,m2,m3):\n",
        "    self.m1 = m1\n",
        "    self.m2 = m2\n",
        "    self.m3 = m3\n",
        " #1.Instance method : works with instance variables\n",
        "  def avg(self):\n",
        "    return (self.m1 + self.m2 + self.m3 )/3\n",
        "  #1a.Getters\n",
        "  def get_m1(self):\n",
        "    return self.m1\n",
        "  #1b.Setters\n",
        "  def set_m1(self,value):\n",
        "    self.m1 = value\n",
        "    return self.m1\n",
        "  #2.Class method : works with class variables\n",
        "  @classmethod   #decorator\n",
        "  def getSchool(cls):\n",
        "    return cls.school\n",
        "  #3.Static method: we don't use any variable\n",
        "  @staticmethod\n",
        "  def info():\n",
        "    print(\"This is studdent class\")\n",
        "\n",
        "s1 = student(2,3,5)\n",
        "s2 = student(66,66,44)\n",
        "\n",
        "print(s1.avg())\n",
        "print(s2.avg())\n",
        "#Types of intance methods\n",
        "#1a.Accessor method(Getters): when we only fethc the value of instance variable\n",
        "#1b.Mutator method(Setters): when we update the \"\"\"\n",
        "\n",
        "#2.Calling Class method\n",
        "print(student.getSchool())\n",
        "\n",
        "#3.Calling static method\n",
        "student.info()\n"
      ],
      "metadata": {
        "colab": {
          "base_uri": "https://localhost:8080/"
        },
        "id": "WKe9Y9U33IwQ",
        "outputId": "4d14c191-3cc4-4ca3-f112-84194c698625"
      },
      "execution_count": null,
      "outputs": [
        {
          "output_type": "stream",
          "name": "stdout",
          "text": [
            "3.3333333333333335\n",
            "58.666666666666664\n",
            "KV\n",
            "This is studdent class\n"
          ]
        }
      ]
    },
    {
      "cell_type": "code",
      "source": [
        "#INNER CLASS\n",
        "class student:\n",
        "\n",
        "  def __init__(self,name,rollno):\n",
        "    self.name = name\n",
        "    self.rollno = rollno\n",
        "    #1.call the inner class inside outer class using self\n",
        "    self.lap = self.laptop()\n",
        "  def show(self):\n",
        "    print(self.name,self.rollno)\n",
        "    print(self.lap.brand,self.laptop().ram)\n",
        "   #class inside class\n",
        "  class  laptop:\n",
        "    def __init__(self):\n",
        "      self.brand = 'HP'\n",
        "      self.ram = '23'\n",
        "\n",
        "    def show(self):\n",
        "      print(self.brand)\n",
        "\n",
        "s1 = student('sup',1)\n",
        "s2 = student('prav',29)\n",
        "\n",
        "s1.show()\n",
        "#Calling inner class attribute\n",
        "s2.lap.brand = 'apple'\n",
        "s2.show()\n",
        "#2.call the inner class outside outer class using outer class name\n",
        "lap3 = student.laptop()\n",
        "lap3.show()"
      ],
      "metadata": {
        "colab": {
          "base_uri": "https://localhost:8080/"
        },
        "id": "LXQw_Jzl7ENU",
        "outputId": "cf516ca2-cf59-4894-95a4-031388384488"
      },
      "execution_count": null,
      "outputs": [
        {
          "output_type": "stream",
          "name": "stdout",
          "text": [
            "sup 1\n",
            "HP 23\n",
            "prav 29\n",
            "apple 23\n",
            "HP\n"
          ]
        }
      ]
    },
    {
      "cell_type": "code",
      "source": [],
      "metadata": {
        "id": "MvblUjlqcRbV"
      },
      "execution_count": null,
      "outputs": []
    },
    {
      "cell_type": "code",
      "source": [
        "#Inheritance\n",
        "class A: #Super class\n",
        "  def feature1(self):\n",
        "    print(\"Feature 1 working\")\n",
        "  def feature2(self):\n",
        "    print(\"Feature 2 working\")\n",
        "class B(A): #Class B is inheriting A #Sub class\n",
        "  def feature3(self):\n",
        "    print(\"Feature 3 working\")\n",
        "  def feature4(self):\n",
        "    print(\"Feature 4 working\")\n",
        "class C(B): #Multilevel inheritance\n",
        "  def feature5(self):\n",
        "    print(\"Feature 5 working\")\n",
        "class E: #Super class\n",
        "  def feature1(self):\n",
        "    print(\"Feature 1 working\")\n",
        "class D(A,E): #Multiple Inheritance\n",
        "  def feat(self):\n",
        "    print(\"class C\")\n",
        "a1 = A()\n",
        "a1.feature1()\n",
        "a1.feature2()\n",
        "\n",
        "b1 = B()\n",
        "b1.feature2()\n",
        "\n",
        "c1 = B()\n",
        "c1.feature2()"
      ],
      "metadata": {
        "id": "8vNO_Dp969Q5",
        "colab": {
          "base_uri": "https://localhost:8080/"
        },
        "outputId": "60b6c679-7d35-47b8-831b-6040904372fa"
      },
      "execution_count": null,
      "outputs": [
        {
          "output_type": "stream",
          "name": "stdout",
          "text": [
            "Feature 1 working\n",
            "Feature 2 working\n",
            "Feature 2 working\n",
            "Feature 2 working\n"
          ]
        }
      ]
    },
    {
      "cell_type": "code",
      "source": [
        "#Constructor in inheritance\n",
        "class A: #Super class\n",
        "  def __init__(self):\n",
        "    print(\"Constructor of A\")\n",
        "  def feature1(self):\n",
        "    print(\"Feature 1 working\")\n",
        "  def feature2(self):\n",
        "    print(\"Feature 2 working\")\n",
        "class B(A): #Sub class\n",
        "  def __init__(self):\n",
        "    #how to call _init_ of A\n",
        "    super().__init__()\n",
        "    print(\"Constructor of B\")\n",
        "  def feature3(self):\n",
        "    print(\"Feature 3 working\")\n",
        "  def feature4(self):\n",
        "    print(\"Feature 4 working\")\n",
        "\n",
        "#If there is no constructore of B constructor of A is exectuted\n",
        "#if there is constructor in both , B constructor is calles not A constructore\n",
        "\n",
        "b1 = B()\n",
        "\n"
      ],
      "metadata": {
        "colab": {
          "base_uri": "https://localhost:8080/"
        },
        "id": "3wJ_LrY8cBME",
        "outputId": "d11e452a-17fd-420d-8461-03f868a000cd"
      },
      "execution_count": null,
      "outputs": [
        {
          "output_type": "stream",
          "name": "stdout",
          "text": [
            "Constructor of A\n",
            "Constructor of B\n"
          ]
        }
      ]
    },
    {
      "cell_type": "code",
      "source": [
        "#MRO: Method resolution order\n",
        "class A:\n",
        "  def __init__(self):\n",
        "    print(\"Constructor of A\")\n",
        "  def feature1(self):\n",
        "    print(\"Feature 1 of A working\")\n",
        "class B():\n",
        "  def __init__(self):\n",
        "    print(\"Constructor of B\")\n",
        "  def feature1(self):\n",
        "    print(\"Feature 1 of B working\")\n",
        "class C(A,B): #Multiple inheritance\n",
        "  def __init__(self):\n",
        "    print(\"Constructor of C\")\n",
        "    super().__init__()\n",
        "  def feature5(self):\n",
        "    print(\"Feature 5 working\")\n",
        "\n",
        "\n",
        "c1 = C()\n",
        "c1.feature1()\n",
        "\n",
        "#MEthod resoltion order:\n",
        "#The inheritance starts from left to right\n",
        "#so only A gets called here\n",
        "#first constructor of C is called and then Super class constructore from lef to right"
      ],
      "metadata": {
        "colab": {
          "base_uri": "https://localhost:8080/"
        },
        "id": "wSQ4Iwi-drW6",
        "outputId": "175e354f-fa2f-4c64-b9bb-6284cdf16a4b"
      },
      "execution_count": null,
      "outputs": [
        {
          "output_type": "stream",
          "name": "stdout",
          "text": [
            "Constructor of C\n",
            "Constructor of A\n",
            "Feature 1 of A working\n"
          ]
        }
      ]
    },
    {
      "cell_type": "code",
      "source": [
        "#Polymorphism: 1. Duck typing\n",
        "#Polymorphism is one thing and multiple forms\n",
        "#Dynamic type: type can be mentioned later\n",
        "#Based on the saying: \"If it looks like a duck, swims like a duck, and quacks\n",
        "#like a duck, then it probably is a duck.\n",
        "#Duck typing means that Python doesn't check an object’s type to determine if it can be used for a specific purpose.\n",
        "#Instead, it checks whether the object has the required behavior (methods or properties).\n",
        "class pycharm:\n",
        "  def execute(self):\n",
        "    print(\"executed\")\n",
        "class myide:\n",
        "  def execute(self):\n",
        "    print(\" better executed\")\n",
        "class laptop:\n",
        "  def code(self,ide):\n",
        "    ide.execute()\n",
        "ide = pycharm()\n",
        "lap1 = laptop()\n",
        "lap1.code(ide)\n",
        "ide = myide()\n",
        "lap2 = laptop()\n",
        "lap2.code(ide)"
      ],
      "metadata": {
        "colab": {
          "base_uri": "https://localhost:8080/"
        },
        "id": "e6-_8rMKfVuM",
        "outputId": "613180a2-5216-478d-bfda-0fdc2357ea85"
      },
      "execution_count": null,
      "outputs": [
        {
          "output_type": "stream",
          "name": "stdout",
          "text": [
            "executed\n",
            " better executed\n"
          ]
        }
      ]
    },
    {
      "cell_type": "code",
      "source": [
        "#Polymorphism: 2. Operator overloading\n",
        "#Operator Overloading in Python means giving special meaning to standard operators (like +, -, ==, etc.)\n",
        "#so they can work with user-defined objects (like classes) in a way that’s intuitive.\n",
        "a= 5\n",
        "b= 6\n",
        "print(a+b)\n",
        "print(int.__add__(a,b))\n",
        "\n",
        "a= '5'\n",
        "b= '6'\n",
        "print(a+b)\n",
        "print(str.__add__(a,b))\n",
        "#All the operators behid the scene they act as methods\n",
        "\n",
        "class student:\n",
        "  def __init__(self,m1,m2):\n",
        "    self.m1 = m1\n",
        "    self.m2 = m2\n",
        "  def __add__(self,other): #called when operator + is used\n",
        "    m1 = self.m1 + other.m1\n",
        "    m2 = self.m2 + other.m2\n",
        "    s3 = student(m1,m2)\n",
        "    return s3\n",
        "  def __gt__(self,other):\n",
        "    r1 = self.m1 + self.m2\n",
        "    r2 = other.m1 + other.m2\n",
        "    if r1>r2:\n",
        "      return True\n",
        "    else:\n",
        "      return False\n",
        "  def __str__(self):\n",
        "    return 'm1:{}m2:{}'.format(self.m1,self.m2)\n",
        "s1 = student(2,4)\n",
        "s2 = student(4,6)\n",
        "s3 = s1 + s2 #gives error when __add__method not mentioned\n",
        "# -->student.__add_(s1,s2)\n",
        "print(s3.m1,s3.m2)\n",
        "\n",
        "if s1 > s2:\n",
        "  print(\"s1 wins\")\n",
        "else:\n",
        "  print(\"s2 wins\")\n",
        "\n",
        "#__str__ :\n",
        "a=9\n",
        "print('a:',a.__str__())\n",
        "\n",
        "print(s1)"
      ],
      "metadata": {
        "colab": {
          "base_uri": "https://localhost:8080/"
        },
        "id": "DUuV9HOPZJyr",
        "outputId": "17c256af-d198-417c-f2e5-52deab4b18cb"
      },
      "execution_count": null,
      "outputs": [
        {
          "output_type": "stream",
          "name": "stdout",
          "text": [
            "11\n",
            "11\n",
            "56\n",
            "56\n",
            "6 10\n",
            "s2 wins\n",
            "a 9\n",
            "m1:2m2:4\n"
          ]
        }
      ]
    },
    {
      "cell_type": "code",
      "source": [
        "#Polymorphism: 3. Method Overloading:method with same name , but different parameters\n",
        "#not possible in python because 2methods with sam ename is not possible\n",
        "#Having multiple methods with the same name but different arguments.\n",
        "class student:\n",
        "  def sum(self,a=0,b=0,c=0):\n",
        "    return a+b+c\n",
        "\n",
        "s1 = student()\n",
        "#Indirectly using method overriding\n",
        "print(s1.sum(3,2))"
      ],
      "metadata": {
        "colab": {
          "base_uri": "https://localhost:8080/"
        },
        "id": "ehdwgOCh5VsM",
        "outputId": "a70d5f18-b50b-4ccb-c415-e9e4bd98a98f"
      },
      "execution_count": null,
      "outputs": [
        {
          "output_type": "stream",
          "name": "stdout",
          "text": [
            "5\n"
          ]
        }
      ]
    },
    {
      "cell_type": "markdown",
      "source": [],
      "metadata": {
        "id": "Jro7CMHRHEUN"
      }
    },
    {
      "cell_type": "code",
      "source": [
        "#Polymorphism: 3. Method Overriding\n",
        "#When a child class provides a specific implementation of a method that is already\n",
        "#defined in its parent class.\n",
        "class A:\n",
        "  def show(self):\n",
        "    print(\"In A Show\")\n",
        "class B(A):\n",
        "  def show(self):\n",
        "    print(\"In B Show\")\n",
        "\n",
        "b1 = B()\n",
        "b1.show() #Sub class overrides Super class"
      ],
      "metadata": {
        "colab": {
          "base_uri": "https://localhost:8080/"
        },
        "id": "JDgYe7_LBrTa",
        "outputId": "693af023-d5e2-44c2-da8f-c9bc18847ee8"
      },
      "execution_count": null,
      "outputs": [
        {
          "output_type": "stream",
          "name": "stdout",
          "text": [
            "In B Show\n"
          ]
        }
      ]
    },
    {
      "cell_type": "code",
      "source": [
        "#Abstract Class and Abstract Method\n",
        "#Python by default does not support Abstract classes\n",
        "#Abstract class has atleast one abstract method\n",
        "#We cannot create object for Abstract class\n",
        "from abc import ABC, abstractmethod\n",
        "class comp(ABC):\n",
        "  @abstractmethod #need to use decorator for abstract\n",
        "  def proc(self):\n",
        "   pass #method just defined , not implemented\n",
        "class lap(comp):\n",
        "  def proc(self):\n",
        "    print(\"run\")\n",
        "#c1 = comp() #error cant instantiates\n",
        "l1 = lap()#Runs\n",
        "\n",
        "#Use of Abstract class? :  In Python, abstract classes are used to define a\n",
        "# common interface or blueprint for other classes, without implementing full\n",
        "#functionality. They’re part of Python’s object-oriented programming (OOP) model\n",
        "#and help enforce consistent behavior across subclasses.\n",
        "#Abstract class can have both abstract methods and normal methods\n",
        "#Interfaces can have only abstract methods and no attributes"
      ],
      "metadata": {
        "id": "HOkd2xI9E3aR"
      },
      "execution_count": null,
      "outputs": []
    },
    {
      "cell_type": "code",
      "source": [
        "#Iterator\n",
        "nums = [3,6,8,9]\n",
        "it = iter(nums)\n",
        "print(it.__next__())\n",
        "print(it.__next__())\n",
        "\n",
        "print(next(it))\n",
        "\n",
        "#Own iterator function\n",
        "print(\"User defined iterator:\")\n",
        "class topten:\n",
        "  def __init__(self):\n",
        "    self.num = 1\n",
        "  def __iter__(self):\n",
        "    return self\n",
        "  def __next__(self):\n",
        "    if self.num<=10:\n",
        "      val = self.num\n",
        "      self.num += 1\n",
        "      return val\n",
        "    else:\n",
        "      raise StopIteration\n",
        "\n",
        "values = topten()\n",
        "print(values.__next__())\n",
        "for i in values: #starts from 2 as next is already executed\n",
        "  print(i,end=\" \")"
      ],
      "metadata": {
        "colab": {
          "base_uri": "https://localhost:8080/"
        },
        "id": "2RAWXq4qHPub",
        "outputId": "5db71a12-7d33-488e-dd82-e882e3d2d906"
      },
      "execution_count": null,
      "outputs": [
        {
          "output_type": "stream",
          "name": "stdout",
          "text": [
            "3\n",
            "6\n",
            "8\n",
            "User defined iterator:\n",
            "1\n",
            "2 3 4 5 6 7 8 9 10 "
          ]
        }
      ]
    },
    {
      "cell_type": "code",
      "source": [
        "#Generator\n",
        "def topten():\n",
        "  yield 5 #special function that makes a function as generator\n",
        "  yield 4\n",
        "  yield 2\n",
        "  yield 7\n",
        "values = topten()\n",
        "print(values.__next__())\n",
        "print(values.__next__())\n",
        "for i in values:\n",
        "  print(\"for:\",i)\n",
        "\n",
        "print(\"\")\n",
        "def topten():\n",
        "  n=1\n",
        "  while n<=10:\n",
        "    sq =n*n\n",
        "    yield sq\n",
        "    n+=1\n",
        "values = topten()\n",
        "for i in values:\n",
        "  print(i, end=\" \")\n",
        "\n",
        "#Purpose: when fetching 1000 records, when we want to work with one value at a time\n",
        "#instead of fetching all"
      ],
      "metadata": {
        "colab": {
          "base_uri": "https://localhost:8080/"
        },
        "id": "4poKf12UN4s-",
        "outputId": "27d81ead-f050-440b-b6b6-a4eadc465fd9"
      },
      "execution_count": null,
      "outputs": [
        {
          "output_type": "stream",
          "name": "stdout",
          "text": [
            "5\n",
            "4\n",
            "for: 2\n",
            "for: 7\n",
            "\n",
            "1 4 9 16 25 36 49 64 81 100 "
          ]
        }
      ]
    },
    {
      "cell_type": "code",
      "source": [
        "#Exception handling\n",
        "a,b=5,0\n",
        "try:\n",
        "  print(a/b)\n",
        "  print(\"Notice this does not get executed\")\n",
        "except ZeroDivisionError as e:\n",
        "  print(\"Error divide by zero\\n\",e)\n",
        "except ValueError as e:\n",
        "  print(\"Invalid Input\\n\",e)\n",
        "except Exception as e:\n",
        "  print(\"General error Something went wrong\")\n",
        "finally:\n",
        "  print(\"close file\")\n",
        "#executes in spite of excception or not\n",
        "print(\"Bye\")"
      ],
      "metadata": {
        "colab": {
          "base_uri": "https://localhost:8080/"
        },
        "id": "GHF-xX-IE29D",
        "outputId": "b8a2f965-3ae8-4b68-ec52-ab17bdf53385"
      },
      "execution_count": null,
      "outputs": [
        {
          "output_type": "stream",
          "name": "stdout",
          "text": [
            "Error divide by zero\n",
            " division by zero\n",
            "close file\n",
            "Bye\n"
          ]
        }
      ]
    },
    {
      "cell_type": "code",
      "source": [
        "#Multithreading\n",
        "#Check pycharm file multithreading.py\n",
        "from time import sleep\n",
        "from threading import *\n",
        "class hello(Thread):\n",
        "  def run(self): #Inside Thread class there is run method\n",
        "    for i in range(5):\n",
        "      print(\"Hello\")\n",
        "      sleep(1)\n",
        "\n",
        "class hi(Thread):\n",
        "  def run(self):\n",
        "    for i in range(5):\n",
        "      print(\"Hi\")\n",
        "      sleep(1)\n",
        "\n",
        "t1 = hello()\n",
        "t2 = hi()\n",
        "\n",
        "t1.start() #Use start method which will call run()\n",
        "sleep(0.2)\n",
        "t2.start()\n",
        "#there are 3 threads main thread, t1 thread, t2 thread\n",
        "print(\"before Bye\") #Main prints this"
      ],
      "metadata": {
        "colab": {
          "base_uri": "https://localhost:8080/"
        },
        "id": "VIM2p1iPBrBK",
        "outputId": "db5cc952-ae85-4892-816b-15069c49a238"
      },
      "execution_count": null,
      "outputs": [
        {
          "output_type": "stream",
          "name": "stdout",
          "text": [
            "Hello\n",
            "Hi\n",
            "Bye\n"
          ]
        }
      ]
    },
    {
      "cell_type": "code",
      "source": [
        "#Comments\n",
        "#\"\"\"-->used for documentation , dont use,\n",
        "#Use Hash for comments"
      ],
      "metadata": {
        "id": "1EivR1mr8KHo"
      },
      "execution_count": null,
      "outputs": []
    },
    {
      "cell_type": "code",
      "source": [
        "#Linear search\n",
        "pos = -1\n",
        "def search(list,n):\n",
        "  i=0\n",
        "  while i<(len(list)):\n",
        "    if list[i] == n:\n",
        "      globals()['pos'] = i\n",
        "      return True\n",
        "    i+=1\n",
        "  return False\n",
        "list = [8,5,6,7,9]\n",
        "n=9\n",
        "if search(list,n):\n",
        "  print(\"Found at\",pos)\n",
        "else:\n",
        "  print(\"not found\")"
      ],
      "metadata": {
        "colab": {
          "base_uri": "https://localhost:8080/"
        },
        "id": "h_kwqbvD8Jq3",
        "outputId": "73da064d-5249-40bb-8dfe-42a8860f5c44"
      },
      "execution_count": null,
      "outputs": [
        {
          "output_type": "stream",
          "name": "stdout",
          "text": [
            "Found as 4\n"
          ]
        }
      ]
    },
    {
      "cell_type": "code",
      "source": [
        "#Binary search is Faster\n",
        "pos  = -1\n",
        "def bin_Search(list,n):\n",
        "  l = 0\n",
        "  u = len(list)-1\n",
        "  while l<=u:\n",
        "    m = (l+u)//2\n",
        "    if list[m] == n:\n",
        "      globals()['pos'] = m\n",
        "      return True\n",
        "    elif list[m] < n:\n",
        "      l = m +1\n",
        "    else:\n",
        "      u = m-1\n",
        "  return False\n",
        "list = [8,5,6,7,9]\n",
        "if bin_Search(list,9):\n",
        "  print(\"found at\",pos)\n",
        "else:\n",
        "  print(\"not found\")"
      ],
      "metadata": {
        "colab": {
          "base_uri": "https://localhost:8080/"
        },
        "id": "veZCBNZoaRKx",
        "outputId": "7da29373-15ce-478a-df68-007d23922abc"
      },
      "execution_count": null,
      "outputs": [
        {
          "output_type": "stream",
          "name": "stdout",
          "text": [
            "found at 4\n"
          ]
        }
      ]
    },
    {
      "cell_type": "code",
      "source": [
        "#Bubble sort\n",
        "def bubble_sort(l):\n",
        "  for i in range(len(l)-1,0,-1):\n",
        "    for j in range(i):\n",
        "      if l[j]>l[j+1]:\n",
        "        l[j],l[j+1] = l[j+1],l[j]\n",
        "  return l\n",
        "\n",
        "list = [4,6,2,8,6,9]\n",
        "print(bubble_sort(list))\n",
        "#swaping consumes more power less efficicient"
      ],
      "metadata": {
        "colab": {
          "base_uri": "https://localhost:8080/"
        },
        "id": "_k2MRoSxd7Qy",
        "outputId": "911d5d57-94a5-4227-d921-94d1f6ccabff"
      },
      "execution_count": null,
      "outputs": [
        {
          "output_type": "stream",
          "name": "stdout",
          "text": [
            "[2, 4, 6, 6, 8, 9]\n"
          ]
        }
      ]
    },
    {
      "cell_type": "code",
      "source": [
        "#Selection sort\n",
        "def sel_sort(l):\n",
        "  for i in range((len(l)-1)):\n",
        "    min = i\n",
        "    for j in range(i,len(l)):\n",
        "      if l[j]<l[min]:\n",
        "        min=j\n",
        "    l[i],l[min] = l[min],l[i]\n",
        "  return l\n",
        "\n",
        "list = [4,6,2,8,6,9]\n",
        "print(sel_sort(list))\n",
        "#swapping is less here"
      ],
      "metadata": {
        "colab": {
          "base_uri": "https://localhost:8080/"
        },
        "id": "wGSLJBMNgXjv",
        "outputId": "181a82e6-92ef-404f-a1f9-36de3eba50d5"
      },
      "execution_count": null,
      "outputs": [
        {
          "output_type": "stream",
          "name": "stdout",
          "text": [
            "[2, 4, 6, 6, 8, 9]\n"
          ]
        }
      ]
    },
    {
      "cell_type": "code",
      "source": [
        "#Merge sort\n",
        "def merge_sort(list):\n",
        "  if len(list) <= 1:\n",
        "    return list\n",
        "\n",
        "  mid = len(list) // 2\n",
        "\n",
        "  left  = merge_sort(list[:mid])\n",
        "  right = merge_sort(list[mid:])\n",
        "\n",
        "  return merge(left,right)\n",
        "def merge(left, right):\n",
        "\n",
        "  result = []\n",
        "  i=j=0\n",
        "  while i<len(left) and j<len(right):\n",
        "    if left[i] <= right[j]:\n",
        "      result.append(left[i])\n",
        "      i=i+1\n",
        "    else:\n",
        "      result.append(right[j])\n",
        "      j=j+1\n",
        "\n",
        "  # Append remaining elements\n",
        "  result.extend(left[i:])\n",
        "  result.extend(right[j:])\n",
        "\n",
        "  return result\n",
        "\n",
        "\n",
        "if __name__ == \"__main__\":\n",
        "  arr = [5, 2, 9, 1, 6, 3]\n",
        "  sorted_arr = merge_sort(arr)\n",
        "  print(sorted_arr)\n"
      ],
      "metadata": {
        "colab": {
          "base_uri": "https://localhost:8080/"
        },
        "id": "nr16b9595pga",
        "outputId": "45e93219-8d61-4394-ebf9-466fd76f0682"
      },
      "execution_count": 1,
      "outputs": [
        {
          "output_type": "stream",
          "name": "stdout",
          "text": [
            "[1, 2, 3, 5, 6, 9]\n"
          ]
        }
      ]
    },
    {
      "cell_type": "code",
      "source": [
        "#Quick sort\n",
        "def quick_sort(list):\n",
        "  if len(list) <= 1:\n",
        "    return list\n",
        "\n",
        "  pivot = list[0]\n",
        "  left = [x for x in list[1:] if x<=pivot]\n",
        "  right = [x for x in list[1:] if x>pivot]\n",
        "\n",
        "  return quick_sort(left) + [pivot] + quick_sort(right)\n",
        "\n",
        "arr = [7, 2, 1, 6, 8, 5, 3, 4]\n",
        "sorted_arr = quick_sort(arr)\n",
        "print(sorted_arr)"
      ],
      "metadata": {
        "colab": {
          "base_uri": "https://localhost:8080/"
        },
        "id": "zI3pAoOA8EPn",
        "outputId": "1eec13d7-8e55-464e-eed8-0ed8d95a9f19"
      },
      "execution_count": 2,
      "outputs": [
        {
          "output_type": "stream",
          "name": "stdout",
          "text": [
            "[1, 2, 3, 4, 5, 6, 7, 8]\n"
          ]
        }
      ]
    },
    {
      "cell_type": "code",
      "source": [
        "#Zip function\n",
        "names = (\"Prav\", \"sup\")\n",
        "comps = (\"apple\",\"lenvo\")\n",
        "zipped = list(zip(names,comps))\n",
        "\n",
        "print(zipped)\n",
        "\n",
        "zipped2 = set(zip(names,comps))\n",
        "print(zipped)\n",
        "\n",
        "zipped = dict(zip(names,comps))\n",
        "print(zipped)\n",
        "\n",
        "for (a,b) in zipped2:\n",
        "  print(a,b)"
      ],
      "metadata": {
        "colab": {
          "base_uri": "https://localhost:8080/"
        },
        "id": "1jehC_LDVqf9",
        "outputId": "bbd4fd4a-84d0-4c57-8971-4fd45a19ada2"
      },
      "execution_count": null,
      "outputs": [
        {
          "output_type": "stream",
          "name": "stdout",
          "text": [
            "[('Prav', 'apple'), ('sup', 'lenvo')]\n",
            "[('Prav', 'apple'), ('sup', 'lenvo')]\n",
            "{'Prav': 'apple', 'sup': 'lenvo'}\n",
            "sup lenvo\n",
            "Prav apple\n"
          ]
        }
      ]
    },
    {
      "cell_type": "code",
      "source": [
        "#String manipulation\n",
        "name = 'supraja aravamudhan'\n",
        "\n",
        "print(len(name))\n",
        "\n",
        "print(name.find('a'))"
      ],
      "metadata": {
        "colab": {
          "base_uri": "https://localhost:8080/"
        },
        "id": "RnW7IdYnWg31",
        "outputId": "de08b195-e28b-4b5e-95bc-745dd383e21e"
      },
      "execution_count": null,
      "outputs": [
        {
          "output_type": "stream",
          "name": "stdout",
          "text": [
            "19\n",
            "4\n"
          ]
        }
      ]
    },
    {
      "cell_type": "code",
      "source": [
        "#Scope Resolution\n",
        "x = \"global\"\n",
        "def outer():\n",
        "    x = \"enclosing\"\n",
        "    def inner():\n",
        "        x = \"local\"\n",
        "        print(x)  # local wins\n",
        "    inner()\n",
        "outer()\n",
        "\n",
        "#Global\n",
        "x = 10\n",
        "def update():\n",
        "    global x\n",
        "    x = 20\n",
        "update()\n",
        "print(x)  # 20\n",
        "\n",
        "#NonLocal\n",
        "def outer():\n",
        "    x = \"outer\"\n",
        "    def inner():\n",
        "        nonlocal x\n",
        "        x = \"inner\"\n",
        "    inner()\n",
        "    print(x)\n",
        "outer()  # inner"
      ],
      "metadata": {
        "colab": {
          "base_uri": "https://localhost:8080/"
        },
        "id": "CMFJgOsITFFS",
        "outputId": "e4000755-3c53-4d2c-cd92-2b2de92e4397"
      },
      "execution_count": null,
      "outputs": [
        {
          "output_type": "stream",
          "name": "stdout",
          "text": [
            "local\n",
            "20\n",
            "inner\n"
          ]
        }
      ]
    },
    {
      "cell_type": "code",
      "source": [
        "#Enumerate and Zip fucntion\n",
        "\n",
        "#enumerate() adds a counter to an iterable and returns it as an enumerate object (which is iterable).\n",
        "fruits = ['apple', 'banana', 'cherry']\n",
        "for index, fruit in enumerate(fruits,start=1):\n",
        "    print(index, fruit)\n",
        "\n",
        "#zip() combines multiple iterables (like lists or tuples) into tuples, element-wise.\n",
        "names = ['Alice', 'Bob', 'Charlie']\n",
        "scores = [85, 90, 95]\n",
        "\n",
        "for name, score in zip(names, scores):\n",
        "    print(f'{name} scored {score}')\n",
        "\n",
        "#Compbined example\n",
        "names = ['Alice', 'Bob', 'Charlie']\n",
        "scores = [85, 90, 95]\n",
        "\n",
        "for i, (name, score) in enumerate(zip(names, scores), start=1):\n",
        "    print(f'{i}. {name} scored {score}')\n",
        "\n"
      ],
      "metadata": {
        "colab": {
          "base_uri": "https://localhost:8080/"
        },
        "id": "y0cIwq04j6cQ",
        "outputId": "6a941759-1d92-48ba-e801-7f7c45110ddf"
      },
      "execution_count": null,
      "outputs": [
        {
          "output_type": "stream",
          "name": "stdout",
          "text": [
            "1 apple\n",
            "2 banana\n",
            "3 cherry\n",
            "Alice scored 85\n",
            "Bob scored 90\n",
            "Charlie scored 95\n",
            "1. Alice scored 85\n",
            "2. Bob scored 90\n",
            "3. Charlie scored 95\n"
          ]
        }
      ]
    },
    {
      "cell_type": "code",
      "source": [
        "#*args: Stands for \"arguments\"\n",
        "#       Allows you to pass any number of positional arguments to a function.\n",
        "#       Internally treated as a tuple\n",
        "def add_numbers(*args):\n",
        "    total = sum(args)\n",
        "    #args.count\n",
        "    print(\"Sum:\", total)\n",
        "\n",
        "add_numbers(1, 2, 3)       # Sum: 6\n",
        "add_numbers(5, 10, 15, 20) # Sum: 50\n",
        "\n",
        "#*kwargs: Stands for \"keyword arguments\"\n",
        "#         Allows you to pass any number of named arguments (key-value pairs).\n",
        "#         Internally treated as a dictionary.\n",
        "def print_user_info(**kwargs):\n",
        "    for key, value in kwargs.items():\n",
        "        print(f\"{key}: {value}\")\n",
        "    #kwargs.pop\n",
        "print_user_info(name=\"Alice\", age=30, city=\"Austin\")\n"
      ],
      "metadata": {
        "colab": {
          "base_uri": "https://localhost:8080/"
        },
        "id": "8Yk3Na-nkwcG",
        "outputId": "a85e386a-e5b4-45e0-8b5d-13975ca4158e"
      },
      "execution_count": null,
      "outputs": [
        {
          "output_type": "stream",
          "name": "stdout",
          "text": [
            "Sum: 6\n",
            "Sum: 50\n",
            "name: Alice\n",
            "age: 30\n",
            "city: Austin\n"
          ]
        }
      ]
    },
    {
      "cell_type": "code",
      "source": [
        "#Dunder methods\n",
        "class Book:\n",
        "    def __init__(self, title, pages):\n",
        "        self.title = title\n",
        "        self.pages = pages\n",
        "\n",
        "    def __str__(self):\n",
        "        return f\"{self.title} ({self.pages} pages)\"\n",
        "\n",
        "    def __len__(self):\n",
        "        return self.pages\n",
        "\n",
        "    def __eq__(self, other):\n",
        "        return self.pages == other.pages\n",
        "\n",
        "book1 = Book(\"Python 101\", 250)\n",
        "book2 = Book(\"ML Basics\", 250)\n",
        "\n",
        "print(str(book1))        # Python 101 (250 pages)\n",
        "print(len(book1))        # 250\n",
        "print(book1 == book2)    # True\n"
      ],
      "metadata": {
        "colab": {
          "base_uri": "https://localhost:8080/"
        },
        "id": "TX07pUA6neZ3",
        "outputId": "3e659d79-f1c9-46ee-f72f-19ff6650b9af"
      },
      "execution_count": null,
      "outputs": [
        {
          "output_type": "stream",
          "name": "stdout",
          "text": [
            "Python 101 (250 pages)\n",
            "250\n",
            "True\n"
          ]
        }
      ]
    },
    {
      "cell_type": "code",
      "source": [
        "#Regular expressions\n",
        "import re\n",
        "result = re.search(r'\\d+', 'Order 12345')\n",
        "print('1.',result.group())\n",
        "\n",
        "#Finding 4 letter words\n",
        "result = re.findall(r'\\b\\w{4}\\b', 'This is a test line with four word terms')\n",
        "print('2.',result)\n",
        "\n",
        "result = re.sub(r'\\s+', '-', 'hello   world python')  # Output: 'hello-world-python'\n",
        "print('3.',result)\n",
        "\n",
        "pattern = re.compile(r'\\d{3}-\\d{2}-\\d{4}')\n",
        "result = pattern.match('123-45-6789')  # Valid SSN format\n",
        "print('4.',result)\n",
        "\n",
        "#Raw strings treat backslashes literally, avoiding double escaping.\n",
        "#Example: r\"\\d+\" is better than \"\\\\d+\""
      ],
      "metadata": {
        "colab": {
          "base_uri": "https://localhost:8080/"
        },
        "id": "GruHTbtZppxX",
        "outputId": "39835a4d-88d4-4c3c-9dfc-3a51d1b30312"
      },
      "execution_count": null,
      "outputs": [
        {
          "output_type": "stream",
          "name": "stdout",
          "text": [
            "1. 12345\n",
            "2. ['This', 'test', 'line', 'with', 'four', 'word']\n",
            "3. hello-world-python\n",
            "4. <re.Match object; span=(0, 11), match='123-45-6789'>\n"
          ]
        }
      ]
    },
    {
      "cell_type": "code",
      "source": [
        "#Collection module\n",
        "\n",
        "#A Counter is a dictionary subclass that counts hashable objects.\n",
        "from collections import Counter\n",
        "\n",
        "\n",
        "fruits = ['apple', 'banana', 'apple', 'orange', 'banana', 'apple']\n",
        "count = Counter(fruits)\n",
        "print(count)\n",
        "\n",
        "print(count.most_common(1))\n",
        "print(count['banana'])\n",
        "\n",
        "#A defaultdict is like a regular dict, but returns a default value when a key\n",
        "#is missing (avoids KeyError).\n",
        "\n",
        "from collections import defaultdict\n",
        "\n",
        "group = defaultdict(list)\n",
        "group['a'].append(1)\n",
        "group['a'].append(2)\n",
        "group['b'].append(1)\n",
        "\n",
        "print(group['a'], group['c'])\n",
        "\n",
        "#A deque (double-ended queue) allows fast appends and pops from both ends —\n",
        "#faster than a list.\n",
        "from collections import deque\n",
        "\n",
        "dq = deque([1, 2, 3])\n",
        "dq.append(4)       # right end\n",
        "dq.appendleft(0)   # left end\n",
        "print(dq)          # deque([0, 1, 2, 3, 4])\n",
        "\n",
        "dq.pop()           # 4\n",
        "dq.popleft()       # 0\n",
        "print(dq)\n",
        "\n",
        "#Other function: rotate(n): rotates elements right by n"
      ],
      "metadata": {
        "colab": {
          "base_uri": "https://localhost:8080/"
        },
        "id": "sGxtZYBOhmW-",
        "outputId": "660d328a-a80d-4d0e-9970-02d40676a896"
      },
      "execution_count": 13,
      "outputs": [
        {
          "output_type": "stream",
          "name": "stdout",
          "text": [
            "Counter({'apple': 3, 'banana': 2, 'orange': 1})\n",
            "[('apple', 3)]\n",
            "2\n",
            "[1, 2] []\n",
            "deque([0, 1, 2, 3, 4])\n",
            "deque([1, 2, 3])\n"
          ]
        }
      ]
    },
    {
      "cell_type": "code",
      "source": [
        "#Itertools:\n",
        "#The itertools module provides a collection of fast, memory-efficient tools for\n",
        "# working with iterators. These tools are useful for looping, filtering, grouping,\n",
        "#and generating combinations or permutations — especially with large datasets.\n",
        "\n",
        "#Count:Infinite counter generator\n",
        "from itertools import count\n",
        "print(\"Count:\")\n",
        "for i in count(5,2):\n",
        "  print(i,end=\" \")\n",
        "  if i>=12:\n",
        "    break\n",
        "#Cycle:Repeats elements of the iterable endlessly.\n",
        "from itertools import cycle\n",
        "print(\"\\n\\nCycle:\")\n",
        "i=0\n",
        "for item in cycle(['A', 'B', 'C']):\n",
        "    print(item,end=\" \")\n",
        "    if i > 12:\n",
        "      break\n",
        "    i+=1\n",
        "\n",
        "#Repeat:Repeats a value a fixed number of times.\n",
        "from itertools import repeat\n",
        "print(\"\\n\\nRepeat:\")\n",
        "for x in repeat(\"Hi\", 3):\n",
        "    print(x, end=\" \")\n",
        "\n",
        "#Chain:Flattens multiple iterables into a single sequence.\n",
        "from itertools import chain\n",
        "print(\"\\n\\nChain:\")\n",
        "print(list(chain([1, 2], ['a', 'b'])))\n",
        "# Output: [1, 2, 'a', 'b']\n",
        "\n",
        "#Combinations: Returns all r-length combinations (no repeats, order doesn't matter).\n",
        "from itertools import combinations\n",
        "print(\"\\nCombinations:\")\n",
        "print(list(combinations('ABCD', 2)))\n",
        "\n",
        "#Permutations: Returns all r-length permutations (order matters).\n",
        "from itertools import permutations\n",
        "print(\"\\nPermutations:\")\n",
        "print(list(permutations('ABC', 2)))\n",
        "\n",
        "#Product: Cartesian product of input iterables.\n",
        "from itertools import product\n",
        "print(\"\\nCartesian product:\")\n",
        "print(list(product([1, 2], ['A', 'B'])))\n",
        "\n",
        "#Groupby: Groups consecutive elements based on a key function.\n",
        "from itertools import groupby\n",
        "print(\"\\nGroup by:\")\n",
        "data = 'aaabbbccaa'\n",
        "for key, group in groupby(data):\n",
        "    print(key, list(group))\n",
        "\n",
        "#Accumulate\n",
        "from itertools import accumulate\n",
        "print(\"\\nAccumulate:\")\n",
        "data = [1, 2, 3, 4, 5]\n",
        "accumulated = accumulate(data)\n",
        "for item in accumulated:\n",
        "  print(item, end=\" \")"
      ],
      "metadata": {
        "colab": {
          "base_uri": "https://localhost:8080/"
        },
        "id": "dpUMH8wJjxPb",
        "outputId": "c9c1918b-00a0-4d1c-bcea-83d9d6a0419e"
      },
      "execution_count": 13,
      "outputs": [
        {
          "output_type": "stream",
          "name": "stdout",
          "text": [
            "Count:\n",
            "5 7 9 11 13 \n",
            "\n",
            "Cycle:\n",
            "A B C A B C A B C A B C A B \n",
            "\n",
            "Repeat:\n",
            "Hi Hi Hi \n",
            "\n",
            "Chain:\n",
            "[1, 2, 'a', 'b']\n",
            "\n",
            "Combinations:\n",
            "[('A', 'B'), ('A', 'C'), ('A', 'D'), ('B', 'C'), ('B', 'D'), ('C', 'D')]\n",
            "\n",
            "Permutations:\n",
            "[('A', 'B'), ('A', 'C'), ('B', 'A'), ('B', 'C'), ('C', 'A'), ('C', 'B')]\n",
            "\n",
            "Cartesian product:\n",
            "[(1, 'A'), (1, 'B'), (2, 'A'), (2, 'B')]\n",
            "\n",
            "Group by:\n",
            "a ['a', 'a', 'a']\n",
            "b ['b', 'b', 'b']\n",
            "c ['c', 'c']\n",
            "a ['a', 'a']\n",
            "\n",
            "Accumulate:\n",
            "1 3 6 10 15 "
          ]
        }
      ]
    },
    {
      "cell_type": "code",
      "source": [
        "#Type hinting lets you specify expected data types for variables, function arguments,\n",
        "#and return values. It improves code readability, IDE support, and static analysis\n",
        "#using tools like mypy, pyright, and pylance.\n",
        "\n",
        "#Basic Type hint\n",
        "def greet(name: str) -> str:\n",
        "    return f\"Hello, {name}\"\n",
        "greet('Supraja')\n",
        "\n",
        "from typing import List, Dict, Optional, Union\n",
        "def add_numbers(numbers: List[int]) -> int:\n",
        "  return sum(numbers)\n",
        "\n",
        "#From python 3.9 builtin type hint , no need to use from typing\n",
        "def square(numb:List[int]) -> List[int]:\n",
        "  return [x**2 for x in numb ]"
      ],
      "metadata": {
        "id": "bYoNklINzIdq"
      },
      "execution_count": 17,
      "outputs": []
    },
    {
      "cell_type": "markdown",
      "source": [
        "**Module related code, file handling handled in PYCharm/GitHub PythonBasics_Pycharm**"
      ],
      "metadata": {
        "id": "Y8mxxnZVycK8"
      }
    }
  ]
}